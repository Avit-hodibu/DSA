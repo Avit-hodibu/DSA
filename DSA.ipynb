{
  "nbformat": 4,
  "nbformat_minor": 0,
  "metadata": {
    "colab": {
      "provenance": [],
      "authorship_tag": "ABX9TyNd1CiJUaPd1I0+/TQAjxI3",
      "include_colab_link": true
    },
    "kernelspec": {
      "name": "python3",
      "display_name": "Python 3"
    },
    "language_info": {
      "name": "python"
    }
  },
  "cells": [
    {
      "cell_type": "markdown",
      "metadata": {
        "id": "view-in-github",
        "colab_type": "text"
      },
      "source": [
        "<a href=\"https://colab.research.google.com/github/Avit-hodibu/DSA-jovian-/blob/main/DSA.ipynb\" target=\"_parent\"><img src=\"https://colab.research.google.com/assets/colab-badge.svg\" alt=\"Open In Colab\"/></a>"
      ]
    },
    {
      "cell_type": "markdown",
      "source": [
        "Data Structure:\n",
        "way to store and organized data efficiently\n",
        "\n",
        "\n",
        "why needed?\n",
        "- search faster and optimize\n",
        "\n",
        "\n",
        "> tree = file browser\n",
        "\n",
        "> graph= social network(suggest)\n",
        "\n",
        "> Stack = browser(undo and redo)\n"
      ],
      "metadata": {
        "id": "XdeETktNng_h"
      }
    },
    {
      "cell_type": "markdown",
      "source": [
        "Linear DS: one after another\n",
        "- Array\n",
        "- linked list\n",
        "- stack\n",
        "- queue\n",
        "- hashing\n",
        "\n",
        "\n",
        "Non-linear DS:non linear\n",
        "- tree\n",
        "- graph"
      ],
      "metadata": {
        "id": "11LY21vJozlp"
      }
    },
    {
      "cell_type": "markdown",
      "source": [
        "Array: store multiple item of same type in continuous memory location\n",
        "\n",
        "dis:\n",
        "- fix size (memory waste), a[50] only 50 data is save\n",
        "- homogmeous (lack of flexibility), only store one type of data type\n",
        "\n",
        "To solve homogmeous :- Referential Array\n",
        "\n",
        "Referential Array: in this value is not store in continous memory location. So rather than storing value we store the address of value. this is called call by reference.\n",
        "Now, we can store different data type also since it only store address of value. Since what are we storing address of data is still homogenous. but the data we are storing is hetrogenous. List is referential array.\n",
        "\n",
        "Drawback:\n",
        "- extra memory (to store address)\n",
        "- slow speed\n",
        "\n",
        "To solve fix size :- Dynamic Array\n",
        "\n",
        "Dynamic Array: adjust size. It is a concept where if data is need to store more than orginal size then we will call same array and make is double each time and store all the values of old array and new data in new location.\n",
        "\n",
        "\n"
      ],
      "metadata": {
        "id": "e2z72tDXpKgP"
      }
    },
    {
      "cell_type": "code",
      "source": [
        "import ctypes\n",
        "# create list\n",
        "class MyList:\n",
        "  def __init__(self):\n",
        "    self.size= 1 # max number item can be store\n",
        "    self.n= 0  # stored item number\n",
        "    # create a C type array with size = self.size\n",
        "    self.A = self.__make_array(self.size)\n",
        "\n",
        "  def __len__(self):\n",
        "    return self.n\n",
        "\n",
        "  def append(self,item):\n",
        "    # check if vacant\n",
        "    if self.n == self.size:\n",
        "      # array is full -> resize\n",
        "      self.__resize(self.size*2)\n",
        "\n",
        "    self.A[self.n] = item\n",
        "    self.n = self.n + 1\n",
        "\n",
        "  def __str__(self):\n",
        "    #[1,2,3]\n",
        "    result=''\n",
        "    for i in range(self.n):\n",
        "      result= result + str(self.A[i]) + ','\n",
        "    return '[' + result[:-1] + ']'\n",
        "\n",
        "  def __getitem__(self, index):\n",
        "    if 0<= index < self.n:\n",
        "      return self.A[index]\n",
        "    else:\n",
        "      return 'IndexError - Index out of range'\n",
        "\n",
        "  def pop(self):\n",
        "    if self.n == 0:\n",
        "      return 'Empty List'\n",
        "    print(self.A[self.n-1])\n",
        "    self.n = self.n - 1\n",
        "\n",
        "  def clear(self): # clear all value\n",
        "    self.n = 0\n",
        "    self.size = 1\n",
        "\n",
        "  def find(self, item):\n",
        "    for i in range(self.n):\n",
        "      if self.A[i] == item:\n",
        "        return i\n",
        "    return 'ValueError - not in list'\n",
        "\n",
        "  def insert(self, pos, item):\n",
        "    if self.n == self.size:\n",
        "      self.__resize(self.size*2)\n",
        "    for i in range(self.n, pos, -1):\n",
        "      self.A[i] = self.A[i-1]\n",
        "    self.A[pos] = item\n",
        "    self.n = self.n + 1\n",
        "\n",
        "  def __delitem__(self, pos):\n",
        "    if 0<= pos< self.n:\n",
        "      for i in range(pos,self.n-1):\n",
        "        self.A[i] =self.A[i+1]\n",
        "      self.n = self.n -1\n",
        "\n",
        "  def remove(self,item):\n",
        "    pos = self.find(item)\n",
        "    if type(pos) == int:\n",
        "      #delete\n",
        "      self.__delitem__(pos)\n",
        "    else:\n",
        "      return pos\n",
        "\n",
        "  def __resize(self,new_capacity):\n",
        "    # create a new array with new capacity\n",
        "    B = self.__make_array(new_capacity)\n",
        "    self.size = new_capacity\n",
        "    # copy the content of old array to new one\n",
        "    for i in range(self.n):\n",
        "      B[i] = self.A[i]\n",
        "    # reassign A\n",
        "    self.A = B\n",
        "\n",
        "\n",
        "  def __make_array(self, capacity):\n",
        "    #  create a C type array (static, referential array) with size capacity\n",
        "    return (capacity*ctypes.py_object)()\n"
      ],
      "metadata": {
        "id": "sgflHx8xozE3"
      },
      "execution_count": 38,
      "outputs": []
    },
    {
      "cell_type": "code",
      "source": [
        "# length of array\n",
        "L = MyList()\n",
        "len(L)"
      ],
      "metadata": {
        "colab": {
          "base_uri": "https://localhost:8080/"
        },
        "id": "F9mwib-Ax-Ca",
        "outputId": "70d698c6-4ca6-4774-fb00-660d757c004c"
      },
      "execution_count": 39,
      "outputs": [
        {
          "output_type": "execute_result",
          "data": {
            "text/plain": [
              "0"
            ]
          },
          "metadata": {},
          "execution_count": 39
        }
      ]
    },
    {
      "cell_type": "code",
      "execution_count": 40,
      "metadata": {
        "colab": {
          "base_uri": "https://localhost:8080/"
        },
        "id": "hcqlBCrena6M",
        "outputId": "163496a1-a199-456a-c047-b5e023c34fa5"
      },
      "outputs": [
        {
          "output_type": "execute_result",
          "data": {
            "text/plain": [
              "4"
            ]
          },
          "metadata": {},
          "execution_count": 40
        }
      ],
      "source": [
        "# append\n",
        "L.append('hello')\n",
        "L.append(8)\n",
        "L.append(8.1)\n",
        "L.append(True)\n",
        "len(L)"
      ]
    },
    {
      "cell_type": "code",
      "source": [
        "#print\n",
        "print(L)"
      ],
      "metadata": {
        "id": "E0tzCrhDzix5",
        "colab": {
          "base_uri": "https://localhost:8080/"
        },
        "outputId": "7578ec7d-1506-4307-a8bf-fbdfde327994"
      },
      "execution_count": 41,
      "outputs": [
        {
          "output_type": "stream",
          "name": "stdout",
          "text": [
            "[hello,8,8.1,True]\n"
          ]
        }
      ]
    },
    {
      "cell_type": "code",
      "source": [
        "#indexing\n",
        "print(L[0])\n",
        ""
      ],
      "metadata": {
        "colab": {
          "base_uri": "https://localhost:8080/"
        },
        "id": "8F_o4RYweghR",
        "outputId": "ed55b28a-c041-4ffe-fac5-b7e3fb7b74c6"
      },
      "execution_count": 42,
      "outputs": [
        {
          "output_type": "stream",
          "name": "stdout",
          "text": [
            "hello\n"
          ]
        }
      ]
    },
    {
      "cell_type": "code",
      "source": [
        "#pop\n",
        "L.pop()"
      ],
      "metadata": {
        "colab": {
          "base_uri": "https://localhost:8080/"
        },
        "id": "6FrRDxVaiOx4",
        "outputId": "7258656a-9d91-4a89-a1c3-220e59301c19"
      },
      "execution_count": 43,
      "outputs": [
        {
          "output_type": "stream",
          "name": "stdout",
          "text": [
            "True\n"
          ]
        }
      ]
    },
    {
      "cell_type": "code",
      "source": [
        "print(L)"
      ],
      "metadata": {
        "colab": {
          "base_uri": "https://localhost:8080/"
        },
        "id": "8eZa8rn_idVY",
        "outputId": "4ae06ead-22ef-4203-87ad-7ed4969960d6"
      },
      "execution_count": 44,
      "outputs": [
        {
          "output_type": "stream",
          "name": "stdout",
          "text": [
            "[hello,8,8.1]\n"
          ]
        }
      ]
    },
    {
      "cell_type": "code",
      "source": [
        "#find\n",
        "L.find('hello')"
      ],
      "metadata": {
        "colab": {
          "base_uri": "https://localhost:8080/"
        },
        "id": "hfDXuwUtihxe",
        "outputId": "551f8528-c8c1-4b7e-e64f-9f248304a782"
      },
      "execution_count": 45,
      "outputs": [
        {
          "output_type": "execute_result",
          "data": {
            "text/plain": [
              "0"
            ]
          },
          "metadata": {},
          "execution_count": 45
        }
      ]
    },
    {
      "cell_type": "code",
      "source": [
        "#remove\n",
        "L.remove(8)"
      ],
      "metadata": {
        "id": "vmtP77WhlDdF"
      },
      "execution_count": 46,
      "outputs": []
    },
    {
      "cell_type": "code",
      "source": [
        "print(L)"
      ],
      "metadata": {
        "colab": {
          "base_uri": "https://localhost:8080/"
        },
        "id": "vfKqTQBiu9UR",
        "outputId": "1d364546-ed8f-4a11-d5d0-12cacb690857"
      },
      "execution_count": 48,
      "outputs": [
        {
          "output_type": "stream",
          "name": "stdout",
          "text": [
            "[hello,8.1]\n"
          ]
        }
      ]
    },
    {
      "cell_type": "code",
      "source": [],
      "metadata": {
        "id": "87Jcdcoqu-z4"
      },
      "execution_count": null,
      "outputs": []
    }
  ]
}