{
  "nbformat": 4,
  "nbformat_minor": 0,
  "metadata": {
    "colab": {
      "provenance": [],
      "authorship_tag": "ABX9TyPJ8426O6W4+NSr867i/NGG",
      "include_colab_link": true
    },
    "kernelspec": {
      "name": "python3",
      "display_name": "Python 3"
    },
    "language_info": {
      "name": "python"
    }
  },
  "cells": [
    {
      "cell_type": "markdown",
      "metadata": {
        "id": "view-in-github",
        "colab_type": "text"
      },
      "source": [
        "<a href=\"https://colab.research.google.com/github/Avit-hodibu/DSA-jovian-/blob/main/Binary_Search_Linked_Lists_and_Complexity.ipynb\" target=\"_parent\"><img src=\"https://colab.research.google.com/assets/colab-badge.svg\" alt=\"Open In Colab\"/></a>"
      ]
    },
    {
      "cell_type": "markdown",
      "source": [
        "Here's a systematic strategy we'll apply for solving problems:\n",
        "\n",
        "- State the problem clearly. Identify the input & output formats.\n",
        "- Come up with some example inputs & outputs. Try to cover all edge cases.\n",
        "- Come up with a correct solution for the problem. State it in plain English.\n",
        "- Implement the solution and test it using example inputs. Fix bugs, if any.\n",
        "- Analyze the algorithm's complexity and identify inefficiencies, if any.\n",
        "- Apply the right technique to overcome the inefficiency. Repeat steps 3 to 6."
      ],
      "metadata": {
        "id": "oW90m4lAr6pb"
      }
    },
    {
      "cell_type": "markdown",
      "source": [
        "QUESTION 1: Alice has some cards with numbers written on them. She arranges the cards in decreasing order, and lays them out face down in a sequence on a table. She challenges Bob to pick out the card containing a given number by turning over as few cards as possible. Write a function to help Bob locate the card."
      ],
      "metadata": {
        "id": "V-ddar5XuQAe"
      }
    },
    {
      "cell_type": "code",
      "source": [
        "def locate_card(cards, query):\n",
        "  pass"
      ],
      "metadata": {
        "id": "3apoLiT1uCXu"
      },
      "execution_count": null,
      "outputs": []
    },
    {
      "cell_type": "markdown",
      "source": [
        "Tips:\n",
        "\n",
        "- Name your function appropriately and think carefully about the signature\n",
        "- Discuss the problem with the interviewer if you are unsure how to frame it in - abstract terms\n",
        "- Use descriptive variable names, otherwise you may forget what a variable represents"
      ],
      "metadata": {
        "id": "jq0KLE7Kt7dJ"
      }
    },
    {
      "cell_type": "code",
      "execution_count": null,
      "metadata": {
        "id": "RGbo2LuCrfEr"
      },
      "outputs": [],
      "source": [
        "cards = [15 , 13, 11, 9, 7, 5]\n",
        "query = 7\n",
        "output = 4"
      ]
    },
    {
      "cell_type": "code",
      "source": [
        "result= locate_card(cards, query)\n",
        "output == result"
      ],
      "metadata": {
        "colab": {
          "base_uri": "https://localhost:8080/"
        },
        "id": "4E9eXh9lwLCm",
        "outputId": "164f9d72-3053-49d9-cd0f-fb50fe16da6e"
      },
      "execution_count": null,
      "outputs": [
        {
          "output_type": "execute_result",
          "data": {
            "text/plain": [
              "False"
            ]
          },
          "metadata": {},
          "execution_count": 4
        }
      ]
    },
    {
      "cell_type": "code",
      "source": [
        "#test variable dict\n",
        "test = {\n",
        "    'input' : {\n",
        "        'cards' : [15 , 13, 11, 9, 7, 5],\n",
        "        'query' : 7\n",
        "    },\n",
        "    'output':4\n",
        "}"
      ],
      "metadata": {
        "id": "NNmrUgYkwUFb"
      },
      "execution_count": null,
      "outputs": []
    },
    {
      "cell_type": "code",
      "source": [
        "#now you can use to test in function\n",
        "#location_of_card(test['input']['cards'], test ['input']['query']) == test['output']\n",
        "#both do same\n",
        "# when you put ** then it will call all the dict key inside of that dict key\n",
        "locate_card(**test['input'])== test['output']"
      ],
      "metadata": {
        "colab": {
          "base_uri": "https://localhost:8080/"
        },
        "id": "14PUCB7AxQaX",
        "outputId": "0e8a8d65-9c45-41a3-859d-f5373b3b3016"
      },
      "execution_count": null,
      "outputs": [
        {
          "output_type": "execute_result",
          "data": {
            "text/plain": [
              "False"
            ]
          },
          "metadata": {},
          "execution_count": 6
        }
      ]
    },
    {
      "cell_type": "markdown",
      "source": [
        "What can happen?\n",
        "\n",
        "- The number query occurs somewhere in the middle of the list cards.\n",
        "- query is the first element in cards.\n",
        "- query is the last element in cards.\n",
        "- The list cards contains just one element, which is query.\n",
        "- The list cards does not contain number query.\n",
        "- The list cards is empty.\n",
        "- The list cards contains repeating numbers.\n",
        "- The number query occurs at more than one position in cards."
      ],
      "metadata": {
        "id": "8-ZTJJc6bvjW"
      }
    },
    {
      "cell_type": "code",
      "source": [
        "tests = []\n",
        "# query occurs in the middle\n",
        "tests.append(test)\n",
        "\n",
        "tests.append({\n",
        "    'input': {\n",
        "        'cards': [13, 11, 10, 7, 4, 3, 1, 0],\n",
        "        'query': 1\n",
        "    },\n",
        "    'output': 6\n",
        "})\n",
        "\n",
        "# query is the first element\n",
        "tests.append({\n",
        "    'input': {\n",
        "        'cards': [4, 2, 1, -1],\n",
        "        'query': 4\n",
        "    },\n",
        "    'output': 0\n",
        "})\n",
        "\n",
        "# query is the last element\n",
        "tests.append({\n",
        "    'input': {\n",
        "        'cards': [3, -1, -9, -127],\n",
        "        'query': -127\n",
        "    },\n",
        "    'output': 3\n",
        "})\n",
        "\n",
        "# cards contains just one element, query\n",
        "tests.append({\n",
        "    'input': {\n",
        "        'cards': [6],\n",
        "        'query': 6\n",
        "    },\n",
        "    'output': 0\n",
        "})\n",
        "\n",
        "# cards does not contain query\n",
        "tests.append({\n",
        "    'input': {\n",
        "        'cards': [9, 7, 5, 2, -9],\n",
        "        'query': 4\n",
        "    },\n",
        "    'output': -1\n",
        "})\n",
        "\n",
        "# cards is empty\n",
        "tests.append({\n",
        "    'input': {\n",
        "        'cards': [],\n",
        "        'query': 7\n",
        "    },\n",
        "    'output': -1\n",
        "})\n",
        "\n",
        "# numbers can repeat in cards\n",
        "tests.append({\n",
        "    'input': {\n",
        "        'cards': [8, 8, 6, 6, 6, 6, 6, 3, 2, 2, 2, 0, 0, 0],\n",
        "        'query': 3\n",
        "    },\n",
        "    'output': 7\n",
        "})"
      ],
      "metadata": {
        "id": "YaAZSBJpbg0E"
      },
      "execution_count": null,
      "outputs": []
    },
    {
      "cell_type": "code",
      "source": [
        "tests"
      ],
      "metadata": {
        "colab": {
          "base_uri": "https://localhost:8080/"
        },
        "id": "gpb5iDYedE86",
        "outputId": "5c2efeff-6e63-44e5-e173-1222c5ebbd8b"
      },
      "execution_count": null,
      "outputs": [
        {
          "output_type": "execute_result",
          "data": {
            "text/plain": [
              "[{'input': {'cards': [15, 13, 11, 9, 7, 5], 'query': 7}, 'output': 4},\n",
              " {'input': {'cards': [13, 11, 10, 7, 4, 3, 1, 0], 'query': 1}, 'output': 6},\n",
              " {'input': {'cards': [4, 2, 1, -1], 'query': 4}, 'output': 0},\n",
              " {'input': {'cards': [3, -1, -9, -127], 'query': -127}, 'output': 3},\n",
              " {'input': {'cards': [6], 'query': 6}, 'output': 0},\n",
              " {'input': {'cards': [9, 7, 5, 2, -9], 'query': 4}, 'output': -1},\n",
              " {'input': {'cards': [], 'query': 7}, 'output': -1},\n",
              " {'input': {'cards': [8, 8, 6, 6, 6, 6, 6, 3, 2, 2, 2, 0, 0, 0], 'query': 3},\n",
              "  'output': 7}]"
            ]
          },
          "metadata": {},
          "execution_count": 11
        }
      ]
    },
    {
      "cell_type": "markdown",
      "source": [
        "Linear search: search from 0 postion value to n position untill it find. look one at time then look for current + 1 postion value. Total iteration is n\n",
        "\n",
        "complexity = O(N)"
      ],
      "metadata": {
        "id": "LgQbpe87QHck"
      }
    },
    {
      "cell_type": "code",
      "source": [
        "def locate_card(cards, query):\n",
        "    position = 0\n",
        "    while position < len(cards):\n",
        "        if cards[position] == query:\n",
        "            return position\n",
        "        position += 1\n",
        "    return -1"
      ],
      "metadata": {
        "id": "8NjvsY7U1Qk8"
      },
      "execution_count": null,
      "outputs": []
    },
    {
      "cell_type": "code",
      "source": [
        "tests[1]"
      ],
      "metadata": {
        "colab": {
          "base_uri": "https://localhost:8080/"
        },
        "id": "m-z-QiCyck4o",
        "outputId": "5e1d91de-b762-4d34-b4d4-81af67df82c2"
      },
      "execution_count": null,
      "outputs": [
        {
          "output_type": "execute_result",
          "data": {
            "text/plain": [
              "{'input': {'cards': [13, 11, 10, 7, 4, 3, 1, 0], 'query': 1}, 'output': 6}"
            ]
          },
          "metadata": {},
          "execution_count": 9
        }
      ]
    },
    {
      "cell_type": "code",
      "source": [
        "locate_card(**test['input'])== test['output']"
      ],
      "metadata": {
        "colab": {
          "base_uri": "https://localhost:8080/"
        },
        "id": "d4pPlBSscw3P",
        "outputId": "814e422f-a919-45b5-c717-e0874e841430"
      },
      "execution_count": null,
      "outputs": [
        {
          "output_type": "execute_result",
          "data": {
            "text/plain": [
              "True"
            ]
          },
          "metadata": {},
          "execution_count": 13
        }
      ]
    },
    {
      "cell_type": "markdown",
      "source": [
        "#binary serach\n",
        "\n",
        "if the array is sort then we do binary search to find the value from array\n",
        "\n",
        "Here's how binary search can be applied to our problem:\n",
        "\n",
        "- Find the middle element of the list.\n",
        "- If it matches queried number, return the middle position as the answer.\n",
        "- If it is less than the queried number, then search the first half of the list\n",
        "- If it is greater than the queried number, then search the second half of the list\n",
        "- If no more elements remain, return -1."
      ],
      "metadata": {
        "id": "Gz1PqjNOPjgy"
      }
    },
    {
      "cell_type": "code",
      "source": [
        "def test_location(cards, query, mid):\n",
        "    if cards[mid] == query:\n",
        "        if mid-1 >= 0 and cards[mid-1] == query:\n",
        "            return 'left'\n",
        "        else:\n",
        "            return 'found'\n",
        "    elif cards[mid] < query:\n",
        "        return 'left'\n",
        "    else:\n",
        "        return 'right'\n",
        "\n",
        "def locate_card(cards, query):\n",
        "    lo, hi = 0, len(cards) - 1\n",
        "    while lo <= hi:\n",
        "        mid = (lo + hi) // 2\n",
        "        result = test_location(cards, query, mid)\n",
        "        if result == 'found':\n",
        "            return mid\n",
        "        elif result == 'left':\n",
        "            hi = mid - 1\n",
        "        elif result == 'right':\n",
        "            lo = mid + 1\n",
        "    return -1\n",
        "\n",
        "\n",
        "\n"
      ],
      "metadata": {
        "id": "SW1Ku77RPjFC"
      },
      "execution_count": null,
      "outputs": []
    },
    {
      "cell_type": "code",
      "source": [
        "locate_card(**test['input'])== test['output']"
      ],
      "metadata": {
        "colab": {
          "base_uri": "https://localhost:8080/"
        },
        "id": "GSlXP6gkd3c8",
        "outputId": "fa5a0eb7-90f4-4400-ba6c-08a284f31274"
      },
      "execution_count": null,
      "outputs": [
        {
          "output_type": "execute_result",
          "data": {
            "text/plain": [
              "True"
            ]
          },
          "metadata": {},
          "execution_count": 15
        }
      ]
    },
    {
      "cell_type": "markdown",
      "source": [
        "complexity:\n",
        "\n",
        "Once again, let's try to count the number of iterations in the algorithm. If we start out with an array of N elements, then each time the size of the array reduces to half for the next iteration, until we are left with just 1 element.\n",
        "\n",
        "Initial length - N\n",
        "\n",
        "Iteration 1 - N/2\n",
        "\n",
        "Iteration 2 - N/4 i.e. N/2^2\n",
        "\n",
        "Iteration 3 - N/8 i.e. N/2^3\n",
        "\n",
        "...\n",
        "\n",
        "Iteration k - N/2^k\n",
        "\n",
        "Since the final length of the array is 1, we can find the\n",
        "\n",
        "N/2^k = 1\n",
        "\n",
        "Rearranging the terms, we get\n",
        "\n",
        "N = 2^k\n",
        "\n",
        "Taking the logarithm\n",
        "\n",
        "k = log N\n",
        "\n",
        "Where log refers to log to the base 2. Therefore, our algorithm has the time complexity O(log N). This fact is often stated as: binary search runs in logarithmic time. You can verify that the space complexity of binary search is O(1)"
      ],
      "metadata": {
        "id": "UnnbvXbKY1E6"
      }
    },
    {
      "cell_type": "markdown",
      "source": [
        "# Generic Binary Search\n",
        "Here is the general strategy behind binary search, which is applicable to a variety of problems:\n",
        "\n",
        "- Come up with a condition to determine whether the answer lies before, after or at a given position\n",
        "- Retrieve the midpoint and the middle element of the list.\n",
        "- If it is the answer, return the middle position as the answer.\n",
        "- If answer lies before it, repeat the search with the first half of the list\n",
        "- If the answer lies after it, repeat the search with the second half of the list."
      ],
      "metadata": {
        "id": "t-CUeZrcZ_sk"
      }
    },
    {
      "cell_type": "code",
      "source": [
        "def binary_search(lo, hi, condition):\n",
        "    \"\"\"TODO - add docs\"\"\"\n",
        "    while lo <= hi:\n",
        "        mid = (lo + hi) // 2\n",
        "        result = condition(mid)\n",
        "        if result == 'found':\n",
        "            return mid\n",
        "        elif result == 'left':\n",
        "            hi = mid - 1\n",
        "        else:\n",
        "            lo = mid + 1\n",
        "    return -1"
      ],
      "metadata": {
        "id": "OQiWTrFaY0gv"
      },
      "execution_count": null,
      "outputs": []
    },
    {
      "cell_type": "code",
      "source": [
        "#using binary_search\n",
        "def locate_card(cards, query):\n",
        "\n",
        "    def condition(mid):\n",
        "        if cards[mid] == query:\n",
        "            if mid > 0 and cards[mid-1] == query:\n",
        "                return 'left'\n",
        "            else:\n",
        "                return 'found'\n",
        "        elif cards[mid] < query:\n",
        "            return 'left'\n",
        "        else:\n",
        "            return 'right'\n",
        "\n",
        "    return binary_search(0, len(cards) - 1, condition)"
      ],
      "metadata": {
        "id": "L_zm25UIa_qf"
      },
      "execution_count": null,
      "outputs": []
    },
    {
      "cell_type": "code",
      "source": [
        "locate_card(**test['input'])== test['output']"
      ],
      "metadata": {
        "colab": {
          "base_uri": "https://localhost:8080/"
        },
        "id": "qty2wrTkd6_L",
        "outputId": "f1be986b-efe7-4db6-aa8a-531ad007051a"
      },
      "execution_count": null,
      "outputs": [
        {
          "output_type": "execute_result",
          "data": {
            "text/plain": [
              "True"
            ]
          },
          "metadata": {},
          "execution_count": 18
        }
      ]
    }
  ]
}